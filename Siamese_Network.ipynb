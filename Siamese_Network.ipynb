{
  "nbformat": 4,
  "nbformat_minor": 0,
  "metadata": {
    "kernelspec": {
      "display_name": "Python 3",
      "language": "python",
      "name": "python3"
    },
    "language_info": {
      "codemirror_mode": {
        "name": "ipython",
        "version": 3
      },
      "file_extension": ".py",
      "mimetype": "text/x-python",
      "name": "python",
      "nbconvert_exporter": "python",
      "pygments_lexer": "ipython3",
      "version": "3.6.8"
    },
    "colab": {
      "name": "Siamese Network with Triplet Loss in Keras - Complete.ipynb",
      "provenance": [],
      "collapsed_sections": [],
      "toc_visible": true
    },
    "accelerator": "GPU"
  },
  "cells": [
    {
      "cell_type": "markdown",
      "metadata": {
        "id": "iiKhCuIAWQaT",
        "colab_type": "text"
      },
      "source": [
        "# Siamese Network with Triplet Loss in Keras to differentiate between numbers in mnist dataset"
      ]
    },
    {
      "cell_type": "code",
      "metadata": {
        "id": "8jVxqIeTWQaU",
        "colab_type": "code",
        "colab": {
          "base_uri": "https://localhost:8080/",
          "height": 34
        },
        "outputId": "204fa6b3-16f8-45df-c01a-b8474099ed91"
      },
      "source": [
        "%matplotlib notebook\n",
        "\n",
        "import tensorflow as tf\n",
        "import matplotlib.pyplot as plt\n",
        "import numpy as np\n",
        "import random\n",
        "\n",
        "from pca_plotter import PCAPlotter\n",
        "\n",
        "print('TensorFlow version:', tf.__version__)"
      ],
      "execution_count": 1,
      "outputs": [
        {
          "output_type": "stream",
          "text": [
            "TensorFlow version: 2.3.0\n"
          ],
          "name": "stdout"
        }
      ]
    },
    {
      "cell_type": "markdown",
      "metadata": {
        "id": "1sgHnjecWQaY",
        "colab_type": "text"
      },
      "source": [
        "### Importing the Data"
      ]
    },
    {
      "cell_type": "code",
      "metadata": {
        "id": "evYWsjqWWQaZ",
        "colab_type": "code",
        "colab": {
          "base_uri": "https://localhost:8080/",
          "height": 67
        },
        "outputId": "17743a8f-9133-4e5d-9282-51637b57130b"
      },
      "source": [
        "(x_train, y_train), (x_test, y_test) = tf.keras.datasets.mnist.load_data()\n",
        "print(x_train.shape)"
      ],
      "execution_count": 2,
      "outputs": [
        {
          "output_type": "stream",
          "text": [
            "Downloading data from https://storage.googleapis.com/tensorflow/tf-keras-datasets/mnist.npz\n",
            "11493376/11490434 [==============================] - 0s 0us/step\n",
            "(60000, 28, 28)\n"
          ],
          "name": "stdout"
        }
      ]
    },
    {
      "cell_type": "code",
      "metadata": {
        "id": "fpQM7JdJWQad",
        "colab_type": "code",
        "colab": {
          "base_uri": "https://localhost:8080/",
          "height": 34
        },
        "outputId": "6ff7cc5e-2d51-4720-be18-1a68c765e04d"
      },
      "source": [
        "x_train = np.reshape(x_train, (x_train.shape[0], 28**2))/255.\n",
        "x_test = np.reshape(x_test, (x_test.shape[0], 28**2))/255.\n",
        "print(x_train.shape)"
      ],
      "execution_count": 3,
      "outputs": [
        {
          "output_type": "stream",
          "text": [
            "(60000, 784)\n"
          ],
          "name": "stdout"
        }
      ]
    },
    {
      "cell_type": "markdown",
      "metadata": {
        "id": "fWVlCCS2WQag",
        "colab_type": "text"
      },
      "source": [
        "### Plotting Examples"
      ]
    },
    {
      "cell_type": "code",
      "metadata": {
        "id": "mDxnja6kWQag",
        "colab_type": "code",
        "colab": {}
      },
      "source": [
        "def plot_triplets(examples):\n",
        "    plt.figure(figsize=(6, 2))\n",
        "    for i in range(3):\n",
        "        # 1 row 3 cols\n",
        "        plt.subplot(1, 3, 1 + i)\n",
        "        plt.imshow(np.reshape(examples[i], (28, 28)), cmap='binary')\n",
        "        plt.xticks([])\n",
        "        plt.yticks([])\n",
        "    plt.show()"
      ],
      "execution_count": 4,
      "outputs": []
    },
    {
      "cell_type": "code",
      "metadata": {
        "id": "bU00_jPqWQaj",
        "colab_type": "code",
        "colab": {
          "base_uri": "https://localhost:8080/",
          "height": 133
        },
        "outputId": "ae769275-a96f-41a9-9fc6-9e7f563ba531"
      },
      "source": [
        "plot_triplets([x_train[0], x_train[1], x_train[2]])"
      ],
      "execution_count": 5,
      "outputs": [
        {
          "output_type": "display_data",
          "data": {
            "image/png": "[encoded data removed]",
            "text/plain": [
              "<Figure size 432x144 with 3 Axes>"
            ]
          },
          "metadata": {
            "tags": []
          }
        }
      ]
    },
    {
      "cell_type": "markdown",
      "metadata": {
        "id": "z629JoBiWQal",
        "colab_type": "text"
      },
      "source": [
        "### batch generator"
      ]
    },
    {
      "cell_type": "code",
      "metadata": {
        "id": "slGofKBoWQal",
        "colab_type": "code",
        "colab": {}
      },
      "source": [
        "def create_batch(batch_size=256):\n",
        "    x_anchors = np.zeros((batch_size, 784))\n",
        "    x_positives = np.zeros((batch_size, 784))\n",
        "    x_negatives = np.zeros((batch_size, 784))\n",
        "    \n",
        "    for i in range(0, batch_size):\n",
        "        # We need to find an anchor, a positive example and a negative example\n",
        "        random_index = random.randint(0, x_train.shape[0] - 1)\n",
        "        x_anchor = x_train[random_index]\n",
        "        y = y_train[random_index]\n",
        "        \n",
        "        indices_for_pos = np.squeeze(np.where(y_train == y))\n",
        "        indices_for_neg = np.squeeze(np.where(y_train != y))\n",
        "        \n",
        "        x_positive = x_train[indices_for_pos[random.randint(0, len(indices_for_pos) - 1)]]\n",
        "        x_negative = x_train[indices_for_neg[random.randint(0, len(indices_for_neg) - 1)]]\n",
        "        \n",
        "        x_anchors[i] = x_anchor\n",
        "        x_positives[i] = x_positive\n",
        "        x_negatives[i] = x_negative\n",
        "        \n",
        "    return [x_anchors, x_positives, x_negatives]"
      ],
      "execution_count": 6,
      "outputs": []
    },
    {
      "cell_type": "code",
      "metadata": {
        "id": "nJTmEs5sWQao",
        "colab_type": "code",
        "colab": {
          "base_uri": "https://localhost:8080/",
          "height": 133
        },
        "outputId": "ac5c8880-8bbe-4e19-e0fb-11b0e66336c8"
      },
      "source": [
        "examples = create_batch(1)\n",
        "plot_triplets(examples)"
      ],
      "execution_count": 7,
      "outputs": [
        {
          "output_type": "display_data",
          "data": {
            "image/png": "[encoded data removed]",
            "text/plain": [
              "<Figure size 432x144 with 3 Axes>"
            ]
          },
          "metadata": {
            "tags": []
          }
        }
      ]
    },
    {
      "cell_type": "markdown",
      "metadata": {
        "id": "PX9sgXnqWQas",
        "colab_type": "text"
      },
      "source": [
        "## Embedding Model"
      ]
    },
    {
      "cell_type": "code",
      "metadata": {
        "id": "5e6vG7XyWQas",
        "colab_type": "code",
        "colab": {
          "base_uri": "https://localhost:8080/",
          "height": 218
        },
        "outputId": "8cc0530d-9b4f-4ca7-e32c-34e3e27dbbdc"
      },
      "source": [
        "emb_size = 64\n",
        "\n",
        "embedding_model = tf.keras.models.Sequential([\n",
        "    tf.keras.layers.Dense(64, activation='relu', input_shape=(784,)),\n",
        "    tf.keras.layers.Dense(emb_size, activation='sigmoid')\n",
        "])\n",
        "\n",
        "embedding_model.summary()"
      ],
      "execution_count": 8,
      "outputs": [
        {
          "output_type": "stream",
          "text": [
            "Model: \"sequential\"\n",
            "_________________________________________________________________\n",
            "Layer (type)                 Output Shape              Param #   \n",
            "=================================================================\n",
            "dense (Dense)                (None, 64)                50240     \n",
            "_________________________________________________________________\n",
            "dense_1 (Dense)              (None, 64)                4160      \n",
            "=================================================================\n",
            "Total params: 54,400\n",
            "Trainable params: 54,400\n",
            "Non-trainable params: 0\n",
            "_________________________________________________________________\n"
          ],
          "name": "stdout"
        }
      ]
    },
    {
      "cell_type": "code",
      "metadata": {
        "id": "aXbi7X-0WQau",
        "colab_type": "code",
        "colab": {}
      },
      "source": [
        "# example = np.expand_dims(x_train[0], axis=0)\n",
        "# example_emb = embedding_model.predict(example)[0]\n",
        "\n",
        "# print(len(example_emb))"
      ],
      "execution_count": 11,
      "outputs": []
    },
    {
      "cell_type": "markdown",
      "metadata": {
        "id": "xypAiDg0WQax",
        "colab_type": "text"
      },
      "source": [
        "## model for training embedding layer using triplet loss"
      ]
    },
    {
      "cell_type": "code",
      "metadata": {
        "id": "BDHze9VoWQax",
        "colab_type": "code",
        "colab": {
          "base_uri": "https://localhost:8080/",
          "height": 386
        },
        "outputId": "8f75ad40-6451-44e0-9592-fbfca819e008"
      },
      "source": [
        "input_anchor = tf.keras.layers.Input(shape=(784,))\n",
        "input_positive = tf.keras.layers.Input(shape=(784,))\n",
        "input_negative = tf.keras.layers.Input(shape=(784,))\n",
        "\n",
        "embedding_anchor = embedding_model(input_anchor)\n",
        "embedding_positive = embedding_model(input_positive)\n",
        "embedding_negative = embedding_model(input_negative)\n",
        "\n",
        "output = tf.keras.layers.concatenate([embedding_anchor, embedding_positive, embedding_negative], axis=1)\n",
        "\n",
        "net = tf.keras.models.Model([input_anchor, input_positive, input_negative], output)\n",
        "net.summary()"
      ],
      "execution_count": 12,
      "outputs": [
        {
          "output_type": "stream",
          "text": [
            "Model: \"functional_1\"\n",
            "__________________________________________________________________________________________________\n",
            "Layer (type)                    Output Shape         Param #     Connected to                     \n",
            "==================================================================================================\n",
            "input_1 (InputLayer)            [(None, 784)]        0                                            \n",
            "__________________________________________________________________________________________________\n",
            "input_2 (InputLayer)            [(None, 784)]        0                                            \n",
            "__________________________________________________________________________________________________\n",
            "input_3 (InputLayer)            [(None, 784)]        0                                            \n",
            "__________________________________________________________________________________________________\n",
            "sequential (Sequential)         (None, 64)           54400       input_1[0][0]                    \n",
            "                                                                 input_2[0][0]                    \n",
            "                                                                 input_3[0][0]                    \n",
            "__________________________________________________________________________________________________\n",
            "concatenate (Concatenate)       (None, 192)          0           sequential[0][0]                 \n",
            "                                                                 sequential[1][0]                 \n",
            "                                                                 sequential[2][0]                 \n",
            "==================================================================================================\n",
            "Total params: 54,400\n",
            "Trainable params: 54,400\n",
            "Non-trainable params: 0\n",
            "__________________________________________________________________________________________________\n"
          ],
          "name": "stdout"
        }
      ]
    },
    {
      "cell_type": "code",
      "metadata": {
        "id": "ryLArTjXY_XK",
        "colab_type": "code",
        "colab": {
          "base_uri": "https://localhost:8080/",
          "height": 272
        },
        "outputId": "9529311e-3f0c-4dd0-f1cd-34686a1677ea"
      },
      "source": [
        "tf.keras.utils.plot_model(net)"
      ],
      "execution_count": 13,
      "outputs": [
        {
          "output_type": "execute_result",
          "data": {
            "image/png": "[encoded data removed]",
            "text/plain": [
              "<IPython.core.display.Image object>"
            ]
          },
          "metadata": {
            "tags": []
          },
          "execution_count": 13
        }
      ]
    },
    {
      "cell_type": "markdown",
      "metadata": {
        "id": "Yk-7mRkcWQa0",
        "colab_type": "text"
      },
      "source": [
        "#Implementing Triplet Loss\n",
        "\n",
        "A loss function that tries to pull the Embeddings of Anchor and Positive Examples closer, and tries to push the Embeddings of Anchor and Negative Examples away from each other.\n",
        "\n",
        "Taking mean square difference between Anchor and Positive examples in a batch of N images is:\n",
        "$\n",
        "\\begin{equation}\n",
        "d_p \n",
        "\\end{equation}\n",
        "$\n",
        "\n",
        "Taking mean square difference between Anchor and Negative examples in a batch of N images is:\n",
        "$\n",
        "\\begin{equation}\n",
        "d_n \n",
        "\\end{equation}\n",
        "$\n",
        "\n",
        "For each example, we want:\n",
        "$\n",
        "\\begin{equation}\n",
        "d_p \\leq d_n\n",
        "\\end{equation}\n",
        "$\n",
        "\n",
        "Therefore,\n",
        "$\n",
        "\\begin{equation}\n",
        "d_p - d_n \\leq 0\n",
        "\\end{equation}\n",
        "$\n",
        "\n",
        "This condition is quite easily satisfied during the training.\n",
        "\n",
        "**We will make it non-trivial by adding a margin (alpha):**\n",
        "$\n",
        "\\begin{equation}\n",
        "d_p - d_n + \\alpha \\leq 0\n",
        "\\end{equation}\n",
        "$\n",
        "\n",
        "**thus making it necessary for dn to be more than dp by atleast alpha**\n",
        "\n",
        "Given the condition above, the Triplet Loss L is defined as:\n",
        "$\n",
        "\\begin{equation}\n",
        "L = max(d_p - d_n + \\alpha, 0)\n",
        "\\end{equation}\n",
        "$"
      ]
    },
    {
      "cell_type": "code",
      "metadata": {
        "id": "j0KIIOFCWQa0",
        "colab_type": "code",
        "colab": {}
      },
      "source": [
        "alpha = 0.2\n",
        "# any custom loss function can have only (y_true, y_pred) as inputs\n",
        "def triplet_loss(y_true, y_pred):\n",
        "    anchor, positive, negative = y_pred[:,:emb_size], y_pred[:,emb_size:2*emb_size], y_pred[:,2*emb_size:]\n",
        "    positive_dist = tf.reduce_mean(tf.square(anchor - positive), axis=1)\n",
        "    negative_dist = tf.reduce_mean(tf.square(anchor - negative), axis=1)\n",
        "    # we donot take square root to make sure the gradients do not die during training\n",
        "    return tf.maximum(positive_dist - negative_dist + alpha, 0.)"
      ],
      "execution_count": 14,
      "outputs": []
    },
    {
      "cell_type": "markdown",
      "metadata": {
        "id": "BVG9ffL6WQa3",
        "colab_type": "text"
      },
      "source": [
        "## Data Generator"
      ]
    },
    {
      "cell_type": "code",
      "metadata": {
        "id": "qXg6nWKmWQa3",
        "colab_type": "code",
        "colab": {}
      },
      "source": [
        "def data_generator(batch_size=256):\n",
        "    while True:\n",
        "        x = create_batch(batch_size)\n",
        "        # we do not have any true labels, but to fit in the format we need dummy labels\n",
        "        y = np.zeros((batch_size, 3*emb_size))\n",
        "        yield x, y"
      ],
      "execution_count": 15,
      "outputs": []
    },
    {
      "cell_type": "markdown",
      "metadata": {
        "id": "GjmR5L-rWQa6",
        "colab_type": "text"
      },
      "source": [
        "## Model Training"
      ]
    },
    {
      "cell_type": "code",
      "metadata": {
        "id": "r-uP8fnEWQa7",
        "colab_type": "code",
        "colab": {
          "base_uri": "https://localhost:8080/",
          "height": 615
        },
        "outputId": "2dae41a5-51a1-4bf2-d58b-1004ade27e65"
      },
      "source": [
        "batch_size = 2048\n",
        "epochs = 10\n",
        "steps_per_epoch = int(x_train.shape[0]/batch_size)\n",
        "\n",
        "net.compile(loss=triplet_loss, optimizer='adam')\n",
        "\n",
        "_ = net.fit(\n",
        "    data_generator(batch_size),\n",
        "    steps_per_epoch=steps_per_epoch,\n",
        "    epochs=epochs, verbose=1,\n",
        "    callbacks=[\n",
        "        PCAPlotter(\n",
        "            plt, embedding_model,\n",
        "            x_test[:1000], y_test[:1000]\n",
        "        )]\n",
        ")"
      ],
      "execution_count": 16,
      "outputs": [
        {
          "output_type": "stream",
          "text": [
            "Epoch 1/10\n",
            "29/29 [==============================] - 26s 894ms/step - loss: 0.1620\n",
            "Epoch 2/10\n",
            "29/29 [==============================] - 26s 898ms/step - loss: 0.0782\n",
            "Epoch 3/10\n",
            "29/29 [==============================] - 26s 897ms/step - loss: 0.0563\n",
            "Epoch 4/10\n",
            "29/29 [==============================] - 26s 895ms/step - loss: 0.0495\n",
            "Epoch 5/10\n",
            "29/29 [==============================] - 26s 896ms/step - loss: 0.0443\n",
            "Epoch 6/10\n",
            "29/29 [==============================] - 26s 897ms/step - loss: 0.0414\n",
            "Epoch 7/10\n",
            "29/29 [==============================] - 26s 901ms/step - loss: 0.0381\n",
            "Epoch 8/10\n",
            "29/29 [==============================] - 26s 906ms/step - loss: 0.0350\n",
            "Epoch 9/10\n",
            "29/29 [==============================] - 26s 906ms/step - loss: 0.0332\n",
            "Epoch 10/10\n",
            "29/29 [==============================] - 26s 904ms/step - loss: 0.0316\n"
          ],
          "name": "stdout"
        },
        {
          "output_type": "display_data",
          "data": {
            "image/png": "[encoded data removed]",
            "text/plain": [
              "<Figure size 648x288 with 2 Axes>"
            ]
          },
          "metadata": {
            "tags": [],
            "needs_background": "light"
          }
        }
      ]
    },
    {
      "cell_type": "code",
      "metadata": {
        "id": "yaXdq7VVWQa-",
        "colab_type": "code",
        "colab": {}
      },
      "source": [
        "# tryx = create_batch(batch_size=1)"
      ],
      "execution_count": 242,
      "outputs": []
    },
    {
      "cell_type": "code",
      "metadata": {
        "id": "h1oyycYLcx9b",
        "colab_type": "code",
        "colab": {}
      },
      "source": [
        "# plot_triplets(tryx)"
      ],
      "execution_count": 243,
      "outputs": []
    },
    {
      "cell_type": "code",
      "metadata": {
        "id": "hh0u3ILmc0nb",
        "colab_type": "code",
        "colab": {}
      },
      "source": [
        "# a = embedding_model.predict(tryx[0])\n",
        "# p = embedding_model.predict(tryx[1])\n",
        "# n = embedding_model.predict(tryx[2])"
      ],
      "execution_count": 244,
      "outputs": []
    },
    {
      "cell_type": "code",
      "metadata": {
        "id": "vdrsCFhZguxR",
        "colab_type": "code",
        "colab": {}
      },
      "source": [
        "# a.shape"
      ],
      "execution_count": 245,
      "outputs": []
    },
    {
      "cell_type": "code",
      "metadata": {
        "id": "p25KYc9HdoFh",
        "colab_type": "code",
        "colab": {}
      },
      "source": [
        "# positive_dist = tf.reduce_mean(tf.square(a - p), axis=1)"
      ],
      "execution_count": 246,
      "outputs": []
    },
    {
      "cell_type": "code",
      "metadata": {
        "id": "QyeHpxL1eLo3",
        "colab_type": "code",
        "colab": {}
      },
      "source": [
        "# negative_dist = tf.reduce_mean(tf.square(a - n), axis=1)"
      ],
      "execution_count": 247,
      "outputs": []
    },
    {
      "cell_type": "code",
      "metadata": {
        "id": "lITTvjd1hYwJ",
        "colab_type": "code",
        "colab": {}
      },
      "source": [
        "# abs(float(negative_dist)-float(positive_dist))"
      ],
      "execution_count": 248,
      "outputs": []
    },
    {
      "cell_type": "code",
      "metadata": {
        "id": "LrNW5SEahhq8",
        "colab_type": "code",
        "colab": {}
      },
      "source": [
        ""
      ],
      "execution_count": null,
      "outputs": []
    },
    {
      "cell_type": "markdown",
      "metadata": {
        "id": "xkYxwPzQh-cC",
        "colab_type": "text"
      },
      "source": [
        "# SAME OR NOT MODEL\n"
      ]
    },
    {
      "cell_type": "code",
      "metadata": {
        "id": "anLM6TXziF5l",
        "colab_type": "code",
        "colab": {}
      },
      "source": [
        "input_a = tf.keras.layers.Input(shape=(784,))\n",
        "input_b = tf.keras.layers.Input(shape=(784,))\n",
        "\n",
        "emb_a = embedding_model(input_a)\n",
        "emb_b = embedding_model(input_b)\n",
        "\n",
        "dist = tf.keras.layers.Lambda(lambda x: abs(x[0] - x[1]))([emb_a, emb_b])\n",
        "# dist = tf.keras.layers.Lambda(lambda x: tf.square(x[0] - x[1]))([emb_a, emb_b])\n",
        "\n",
        "op = tf.keras.layers.Dense(1, activation='sigmoid')(dist)\n",
        "\n",
        "similarity_model = tf.keras.models.Model([input_a, input_b], op)"
      ],
      "execution_count": 142,
      "outputs": []
    },
    {
      "cell_type": "code",
      "metadata": {
        "id": "C9Dtluo-jzsw",
        "colab_type": "code",
        "colab": {}
      },
      "source": [
        "similarity_model.layers[2].trainable = False"
      ],
      "execution_count": 143,
      "outputs": []
    },
    {
      "cell_type": "code",
      "metadata": {
        "id": "P1IobCltj4om",
        "colab_type": "code",
        "colab": {
          "base_uri": "https://localhost:8080/",
          "height": 353
        },
        "outputId": "e903e610-cb88-4969-d4f1-3b8d9baf8b73"
      },
      "source": [
        "similarity_model.summary()"
      ],
      "execution_count": 144,
      "outputs": [
        {
          "output_type": "stream",
          "text": [
            "Model: \"functional_12\"\n",
            "__________________________________________________________________________________________________\n",
            "Layer (type)                    Output Shape         Param #     Connected to                     \n",
            "==================================================================================================\n",
            "input_28 (InputLayer)           [(None, 784)]        0                                            \n",
            "__________________________________________________________________________________________________\n",
            "input_29 (InputLayer)           [(None, 784)]        0                                            \n",
            "__________________________________________________________________________________________________\n",
            "sequential (Sequential)         (None, 64)           54400       input_28[0][0]                   \n",
            "                                                                 input_29[0][0]                   \n",
            "__________________________________________________________________________________________________\n",
            "lambda_11 (Lambda)              (None, 64)           0           sequential[27][0]                \n",
            "                                                                 sequential[28][0]                \n",
            "__________________________________________________________________________________________________\n",
            "dense_12 (Dense)                (None, 1)            65          lambda_11[0][0]                  \n",
            "==================================================================================================\n",
            "Total params: 54,465\n",
            "Trainable params: 65\n",
            "Non-trainable params: 54,400\n",
            "__________________________________________________________________________________________________\n"
          ],
          "name": "stdout"
        }
      ]
    },
    {
      "cell_type": "code",
      "metadata": {
        "id": "T0QnGnikkFfX",
        "colab_type": "code",
        "colab": {
          "base_uri": "https://localhost:8080/",
          "height": 369
        },
        "outputId": "51a317a2-128e-4203-80f3-eaf58abaaeff"
      },
      "source": [
        "tf.keras.utils.plot_model(similarity_model)"
      ],
      "execution_count": 136,
      "outputs": [
        {
          "output_type": "execute_result",
          "data": {
            "image/png": "[encoded data removed]",
            "text/plain": [
              "<IPython.core.display.Image object>"
            ]
          },
          "metadata": {
            "tags": []
          },
          "execution_count": 136
        }
      ]
    },
    {
      "cell_type": "code",
      "metadata": {
        "id": "zp4C4KT9kPUY",
        "colab_type": "code",
        "colab": {}
      },
      "source": [
        "def generator_for_similarity(batch_size = 256):\n",
        "    while 1:\n",
        "        a,p,n = create_batch(batch_size)\n",
        "        A = np.zeros((batch_size, 28**2))\n",
        "        B = np.zeros((batch_size, 28**2))\n",
        "        Y = np.zeros((batch_size,))\n",
        "        j = 0 \n",
        "        for i in range(batch_size):\n",
        "            if j<batch_size:\n",
        "                A[j,:] = a[j,:]\n",
        "                B[j,:] = p[j,:]\n",
        "                Y[j,] = 1 \n",
        "                j+=1 \n",
        "            if j<batch_size:\n",
        "                A[j,:] = a[j,:]\n",
        "                B[j,:] = n[j,:]\n",
        "                j+=1 \n",
        "        yield [A,B], Y\n"
      ],
      "execution_count": 145,
      "outputs": []
    },
    {
      "cell_type": "code",
      "metadata": {
        "id": "Nj1KU0oqnLmX",
        "colab_type": "code",
        "colab": {}
      },
      "source": [
        "similarity_model.compile(optimizer='adam', loss= 'binary_crossentropy', metrics = ['accuracy'])"
      ],
      "execution_count": 146,
      "outputs": []
    },
    {
      "cell_type": "code",
      "metadata": {
        "id": "5SplQZEDnZxq",
        "colab_type": "code",
        "colab": {
          "base_uri": "https://localhost:8080/",
          "height": 202
        },
        "outputId": "187d116c-5ec5-4b48-e0d5-e5f6fce3bcd4"
      },
      "source": [
        "similarity_model.fit(generator_for_similarity(),batch_size=256, steps_per_epoch=64, epochs = 5)"
      ],
      "execution_count": 147,
      "outputs": [
        {
          "output_type": "stream",
          "text": [
            "Epoch 1/5\n",
            "64/64 [==============================] - 8s 120ms/step - loss: 0.6638 - accuracy: 0.5426\n",
            "Epoch 2/5\n",
            "64/64 [==============================] - 8s 120ms/step - loss: 0.5800 - accuracy: 0.6185\n",
            "Epoch 3/5\n",
            "64/64 [==============================] - 8s 121ms/step - loss: 0.5572 - accuracy: 0.6545\n",
            "Epoch 4/5\n",
            "64/64 [==============================] - 8s 120ms/step - loss: 0.5386 - accuracy: 0.6937\n",
            "Epoch 5/5\n",
            "64/64 [==============================] - 8s 120ms/step - loss: 0.5192 - accuracy: 0.7266\n"
          ],
          "name": "stdout"
        },
        {
          "output_type": "execute_result",
          "data": {
            "text/plain": [
              "<tensorflow.python.keras.callbacks.History at 0x7fd638b8c8d0>"
            ]
          },
          "metadata": {
            "tags": []
          },
          "execution_count": 147
        }
      ]
    },
    {
      "cell_type": "code",
      "metadata": {
        "id": "KXSLwFxWqRwZ",
        "colab_type": "code",
        "colab": {
          "base_uri": "https://localhost:8080/",
          "height": 202
        },
        "outputId": "06087bd9-63a5-44da-e7ca-6d1cf01895cf"
      },
      "source": [
        "similarity_model.fit(generator_for_similarity(),batch_size=256, steps_per_epoch=64, epochs = 5)"
      ],
      "execution_count": 148,
      "outputs": [
        {
          "output_type": "stream",
          "text": [
            "Epoch 1/5\n",
            "64/64 [==============================] - 8s 120ms/step - loss: 0.5053 - accuracy: 0.7534\n",
            "Epoch 2/5\n",
            "64/64 [==============================] - 8s 120ms/step - loss: 0.4942 - accuracy: 0.7833\n",
            "Epoch 3/5\n",
            "64/64 [==============================] - 8s 120ms/step - loss: 0.4854 - accuracy: 0.8007\n",
            "Epoch 4/5\n",
            "64/64 [==============================] - 8s 120ms/step - loss: 0.4723 - accuracy: 0.8204\n",
            "Epoch 5/5\n",
            "64/64 [==============================] - 8s 120ms/step - loss: 0.4645 - accuracy: 0.8266\n"
          ],
          "name": "stdout"
        },
        {
          "output_type": "execute_result",
          "data": {
            "text/plain": [
              "<tensorflow.python.keras.callbacks.History at 0x7fd638b88b00>"
            ]
          },
          "metadata": {
            "tags": []
          },
          "execution_count": 148
        }
      ]
    },
    {
      "cell_type": "code",
      "metadata": {
        "id": "5Kir9_0MtdkU",
        "colab_type": "code",
        "colab": {}
      },
      "source": [
        "def create_test_batch(batch_size=256):\n",
        "    x_anchors = np.zeros((batch_size, 784))\n",
        "    x_positives = np.zeros((batch_size, 784))\n",
        "    x_negatives = np.zeros((batch_size, 784))\n",
        "    \n",
        "    for i in range(0, batch_size):\n",
        "        # We need to find an anchor, a positive example and a negative example\n",
        "        random_index = random.randint(0, x_test.shape[0] - 1)\n",
        "        x_anchor = x_test[random_index]\n",
        "        y = y_test[random_index]\n",
        "        \n",
        "        indices_for_pos = np.squeeze(np.where(y_test == y))\n",
        "        indices_for_neg = np.squeeze(np.where(y_test != y))\n",
        "        \n",
        "        x_positive = x_test[indices_for_pos[random.randint(0, len(indices_for_pos) - 1)]]\n",
        "        x_negative = x_test[indices_for_neg[random.randint(0, len(indices_for_neg) - 1)]]\n",
        "        \n",
        "        x_anchors[i] = x_anchor\n",
        "        x_positives[i] = x_positive\n",
        "        x_negatives[i] = x_negative\n",
        "        \n",
        "    return [x_anchors, x_positives, x_negatives]"
      ],
      "execution_count": 156,
      "outputs": []
    },
    {
      "cell_type": "code",
      "metadata": {
        "id": "-jV85DX5-NKz",
        "colab_type": "code",
        "colab": {}
      },
      "source": [
        ""
      ],
      "execution_count": 194,
      "outputs": []
    },
    {
      "cell_type": "code",
      "metadata": {
        "id": "sDUXDAsK_llD",
        "colab_type": "code",
        "colab": {}
      },
      "source": [
        "def try1(i=random.randint(0,1)):\n",
        "    batch_size = 1\n",
        "    # ri = random.randint(0,1)\n",
        "    a,p,n = create_test_batch(batch_size)\n",
        "    A = np.zeros((batch_size, 28**2))\n",
        "    B = np.zeros((batch_size, 28**2))\n",
        "    Y = np.zeros((batch_size,))\n",
        "    j=0\n",
        "    if i:\n",
        "        A[j,:] = a[j,:]\n",
        "        B[j,:] = p[j,:]\n",
        "        Y[j,] = 1 \n",
        "        j+=1 \n",
        "    else:\n",
        "        A[j,:] = a[j,:]\n",
        "        B[j,:] = n[j,:]\n",
        "    a,b,tl = A,B,Y\n",
        "    yh=similarity_model.predict([a,b])[0][0]\n",
        "    print(\"originally\", 'same' if tl[0]==1.0 else 'different') \n",
        "    print(\"predicted\", 'same' if yh>=0.5 else 'different'  ,f\"{yh*100:.2f}%\")\n",
        "    plt.subplot(1,2,1)\n",
        "    plt.imshow(a[0].reshape((28,28)), cmap='gray')\n",
        "    plt.subplot(1,2,2)\n",
        "    plt.imshow(b[0].reshape((28,28)), cmap='gray')\n",
        "    "
      ],
      "execution_count": 255,
      "outputs": []
    },
    {
      "cell_type": "markdown",
      "metadata": {
        "id": "VnCtk0w4NsnD",
        "colab_type": "text"
      },
      "source": [
        "## Model evaluation"
      ]
    },
    {
      "cell_type": "code",
      "metadata": {
        "id": "0wP2vLL0MSz_",
        "colab_type": "code",
        "colab": {}
      },
      "source": [
        "def generator_for_similarity_test(batch_size):\n",
        "    while 1:\n",
        "        a,p,n = create_test_batch(batch_size)\n",
        "        A = np.zeros((batch_size, 28**2))\n",
        "        B = np.zeros((batch_size, 28**2))\n",
        "        Y = np.zeros((batch_size,))\n",
        "        j = 0 \n",
        "        for i in range(batch_size):\n",
        "            if j<batch_size:\n",
        "                A[j,:] = a[j,:]\n",
        "                B[j,:] = p[j,:]\n",
        "                Y[j,] = 1 \n",
        "                j+=1 \n",
        "            if j<batch_size:\n",
        "                A[j,:] = a[j,:]\n",
        "                B[j,:] = n[j,:]\n",
        "                j+=1 \n",
        "        yield [A,B], Y"
      ],
      "execution_count": 249,
      "outputs": []
    },
    {
      "cell_type": "code",
      "metadata": {
        "id": "ST8RtYZ_FXBj",
        "colab_type": "code",
        "colab": {
          "base_uri": "https://localhost:8080/",
          "height": 50
        },
        "outputId": "52900ce0-62e6-4b1b-c68c-d5625ccf12a0"
      },
      "source": [
        "similarity_model.evaluate(generator_for_similarity_test(batch_size=2048),steps=10)"
      ],
      "execution_count": 254,
      "outputs": [
        {
          "output_type": "stream",
          "text": [
            "10/10 [==============================] - 2s 190ms/step - loss: 0.4564 - accuracy: 0.8391\n"
          ],
          "name": "stdout"
        },
        {
          "output_type": "execute_result",
          "data": {
            "text/plain": [
              "[0.45642098784446716, 0.839111328125]"
            ]
          },
          "metadata": {
            "tags": []
          },
          "execution_count": 254
        }
      ]
    },
    {
      "cell_type": "code",
      "metadata": {
        "id": "vaVIpOMZMq2b",
        "colab_type": "code",
        "colab": {
          "base_uri": "https://localhost:8080/",
          "height": 234
        },
        "outputId": "c1e9a222-cd2b-4932-8f6d-8517ae793b7f"
      },
      "source": [
        "try1(1)"
      ],
      "execution_count": 260,
      "outputs": [
        {
          "output_type": "stream",
          "text": [
            "originally same\n",
            "predicted same 58.78%\n"
          ],
          "name": "stdout"
        },
        {
          "output_type": "display_data",
          "data": {
            "image/png": "[encoded data removed]",
            "text/plain": [
              "<Figure size 432x288 with 2 Axes>"
            ]
          },
          "metadata": {
            "tags": [],
            "needs_background": "light"
          }
        }
      ]
    },
    {
      "cell_type": "code",
      "metadata": {
        "id": "dFM1KYAEN6Pe",
        "colab_type": "code",
        "colab": {
          "base_uri": "https://localhost:8080/",
          "height": 234
        },
        "outputId": "7bacc80b-f748-4334-9f13-6e9e5693232f"
      },
      "source": [
        "try1(0)"
      ],
      "execution_count": 261,
      "outputs": [
        {
          "output_type": "stream",
          "text": [
            "originally different\n",
            "predicted different 8.40%\n"
          ],
          "name": "stdout"
        },
        {
          "output_type": "display_data",
          "data": {
            "image/png": "[encoded data removed]",
            "text/plain": [
              "<Figure size 432x288 with 2 Axes>"
            ]
          },
          "metadata": {
            "tags": [],
            "needs_background": "light"
          }
        }
      ]
    },
    {
      "cell_type": "code",
      "metadata": {
        "id": "HASePjLAN71_",
        "colab_type": "code",
        "colab": {
          "base_uri": "https://localhost:8080/",
          "height": 234
        },
        "outputId": "f780c792-ac72-4e6c-f8b3-26786332df2a"
      },
      "source": [
        "try1(1)"
      ],
      "execution_count": 262,
      "outputs": [
        {
          "output_type": "stream",
          "text": [
            "originally same\n",
            "predicted different 39.73%\n"
          ],
          "name": "stdout"
        },
        {
          "output_type": "display_data",
          "data": {
            "image/png": "[encoded data removed]",
            "text/plain": [
              "<Figure size 432x288 with 2 Axes>"
            ]
          },
          "metadata": {
            "tags": [],
            "needs_background": "light"
          }
        }
      ]
    },
    {
      "cell_type": "code",
      "metadata": {
        "id": "Vt5xDtcBN9Ly",
        "colab_type": "code",
        "colab": {
          "base_uri": "https://localhost:8080/",
          "height": 234
        },
        "outputId": "e7607138-7f50-4739-89c1-7925e92e6519"
      },
      "source": [
        "try1(0)"
      ],
      "execution_count": 263,
      "outputs": [
        {
          "output_type": "stream",
          "text": [
            "originally different\n",
            "predicted different 14.26%\n"
          ],
          "name": "stdout"
        },
        {
          "output_type": "display_data",
          "data": {
            "image/png": "[encoded data removed]",
            "text/plain": [
              "<Figure size 432x288 with 2 Axes>"
            ]
          },
          "metadata": {
            "tags": [],
            "needs_background": "light"
          }
        }
      ]
    },
    {
      "cell_type": "code",
      "metadata": {
        "id": "moIwDmyZN_Oj",
        "colab_type": "code",
        "colab": {}
      },
      "source": [
        ""
      ],
      "execution_count": null,
      "outputs": []
    }
  ]
}